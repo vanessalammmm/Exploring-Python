{
 "cells": [
  {
   "cell_type": "code",
   "execution_count": 39,
   "metadata": {},
   "outputs": [],
   "source": [
    "import datetime\n",
    "import pandas as pd\n",
    "import numpy as np\n",
    "import pandas as pd\n",
    "import matplotlib.pyplot as plt\n",
    "from scipy.stats import gaussian_kde\n",
    "%matplotlib inline"
   ]
  },
  {
   "cell_type": "code",
   "execution_count": 40,
   "metadata": {},
   "outputs": [],
   "source": [
    "data=pd.read_csv('NV Take-Home Case_Data Analyst_20180501.csv')"
   ]
  },
  {
   "cell_type": "code",
   "execution_count": 41,
   "metadata": {},
   "outputs": [
    {
     "name": "stdout",
     "output_type": "stream",
     "text": [
      "<class 'pandas.core.frame.DataFrame'>\n",
      "RangeIndex: 27373 entries, 0 to 27372\n",
      "Data columns (total 16 columns):\n",
      "order_id                  27373 non-null int64\n",
      "shipper_id                27373 non-null int64\n",
      "cod                       27373 non-null int64\n",
      "from_hub_id               27373 non-null int64\n",
      "to_hub_id                 27373 non-null int64\n",
      "sort_hub_inbound_scan     27373 non-null datetime64[ns]\n",
      "sort_hub_outbound_scan    24837 non-null datetime64[ns]\n",
      "dest_hub_scan             24568 non-null datetime64[ns]\n",
      "first_attempt_date        27373 non-null datetime64[ns]\n",
      "num_attempts              27373 non-null int64\n",
      "rts                       27373 non-null int64\n",
      "completion_date           27373 non-null datetime64[ns]\n",
      "sort_time_hours           24837 non-null float64\n",
      "inbound_hour              27373 non-null int64\n",
      "delivery_time_days        27373 non-null float64\n",
      "sort_inbound_date         27373 non-null datetime64[ns]\n",
      "dtypes: datetime64[ns](6), float64(2), int64(8)\n",
      "memory usage: 3.3 MB\n"
     ]
    }
   ],
   "source": [
    "# Set data types and columns\n",
    "\n",
    "data['sort_hub_inbound_scan'] = pd.to_datetime(data['sort_hub_inbound_scan'])\n",
    "data['sort_hub_outbound_scan'] = pd.to_datetime(data['sort_hub_outbound_scan'])\n",
    "data['dest_hub_scan'] = pd.to_datetime(data['dest_hub_scan'])\n",
    "data['first_attempt_date'] = pd.to_datetime(data['first_attempt_date'])\n",
    "data['completion_date'] = pd.to_datetime(data['completion_date'])\n",
    "data['sort_time_hours'] = (data['sort_hub_outbound_scan']-data['sort_hub_inbound_scan']).apply(lambda x: round(x.total_seconds()/3600,2))\n",
    "data['inbound_hour'] = data['sort_hub_inbound_scan'].apply(lambda x:x.hour)\n",
    "data['delivery_time_days'] = (data['completion_date'] - data['first_attempt_date']).apply(lambda x: x.total_seconds()/86400,2)\n",
    "data['sort_inbound_date'] = data['sort_hub_inbound_scan'].apply(lambda x: np.datetime64(x, 'D'))\n",
    "\n",
    "data.info()"
   ]
  },
  {
   "cell_type": "code",
   "execution_count": 42,
   "metadata": {},
   "outputs": [
    {
     "name": "stdout",
     "output_type": "stream",
     "text": [
      "2536 2805\n"
     ]
    }
   ],
   "source": [
    "#1\n",
    "# Missing data for outbound scan and desthub scan? Trends-- mostly from certain shipper_id?\n",
    "# Reasons for missing data? SOPs not followed? system down? problems with the parcels? Trend or one off?\n",
    "\n",
    "subset = data[(data['sort_hub_outbound_scan'].isnull())]\n",
    "subset2 = data[(data['dest_hub_scan'].isnull())]\n",
    "print(len(subset),len(subset2))"
   ]
  },
  {
   "cell_type": "code",
   "execution_count": 43,
   "metadata": {},
   "outputs": [
    {
     "data": {
      "text/html": [
       "<div>\n",
       "<style scoped>\n",
       "    .dataframe tbody tr th:only-of-type {\n",
       "        vertical-align: middle;\n",
       "    }\n",
       "\n",
       "    .dataframe tbody tr th {\n",
       "        vertical-align: top;\n",
       "    }\n",
       "\n",
       "    .dataframe thead th {\n",
       "        text-align: right;\n",
       "    }\n",
       "</style>\n",
       "<table border=\"1\" class=\"dataframe\">\n",
       "  <thead>\n",
       "    <tr style=\"text-align: right;\">\n",
       "      <th></th>\n",
       "      <th>order_id</th>\n",
       "      <th>shipper_id</th>\n",
       "      <th>cod</th>\n",
       "      <th>from_hub_id</th>\n",
       "      <th>to_hub_id</th>\n",
       "      <th>sort_hub_inbound_scan</th>\n",
       "      <th>sort_hub_outbound_scan</th>\n",
       "      <th>dest_hub_scan</th>\n",
       "      <th>first_attempt_date</th>\n",
       "      <th>num_attempts</th>\n",
       "      <th>rts</th>\n",
       "      <th>completion_date</th>\n",
       "      <th>sort_time_hours</th>\n",
       "      <th>inbound_hour</th>\n",
       "      <th>delivery_time_days</th>\n",
       "      <th>sort_inbound_date</th>\n",
       "    </tr>\n",
       "  </thead>\n",
       "  <tbody>\n",
       "    <tr>\n",
       "      <th>267</th>\n",
       "      <td>268</td>\n",
       "      <td>225294</td>\n",
       "      <td>0</td>\n",
       "      <td>1</td>\n",
       "      <td>5</td>\n",
       "      <td>2018-03-22 16:13:28</td>\n",
       "      <td>2018-03-21 17:37:32</td>\n",
       "      <td>2018-03-24 12:53:21</td>\n",
       "      <td>2018-04-06</td>\n",
       "      <td>2</td>\n",
       "      <td>0</td>\n",
       "      <td>2018-04-07</td>\n",
       "      <td>-22.60</td>\n",
       "      <td>16</td>\n",
       "      <td>1.0</td>\n",
       "      <td>2018-03-22</td>\n",
       "    </tr>\n",
       "    <tr>\n",
       "      <th>350</th>\n",
       "      <td>351</td>\n",
       "      <td>221250</td>\n",
       "      <td>0</td>\n",
       "      <td>1</td>\n",
       "      <td>86</td>\n",
       "      <td>2018-03-22 16:15:05</td>\n",
       "      <td>2018-03-21 17:37:33</td>\n",
       "      <td>2018-03-23 09:26:50</td>\n",
       "      <td>2018-04-03</td>\n",
       "      <td>1</td>\n",
       "      <td>0</td>\n",
       "      <td>2018-04-03</td>\n",
       "      <td>-22.63</td>\n",
       "      <td>16</td>\n",
       "      <td>0.0</td>\n",
       "      <td>2018-03-22</td>\n",
       "    </tr>\n",
       "    <tr>\n",
       "      <th>351</th>\n",
       "      <td>352</td>\n",
       "      <td>225294</td>\n",
       "      <td>0</td>\n",
       "      <td>1</td>\n",
       "      <td>5</td>\n",
       "      <td>2018-03-26 17:07:34</td>\n",
       "      <td>2018-03-25 13:15:50</td>\n",
       "      <td>2018-03-28 12:29:53</td>\n",
       "      <td>2018-04-08</td>\n",
       "      <td>1</td>\n",
       "      <td>0</td>\n",
       "      <td>2018-04-08</td>\n",
       "      <td>-27.86</td>\n",
       "      <td>17</td>\n",
       "      <td>0.0</td>\n",
       "      <td>2018-03-26</td>\n",
       "    </tr>\n",
       "    <tr>\n",
       "      <th>352</th>\n",
       "      <td>353</td>\n",
       "      <td>225294</td>\n",
       "      <td>0</td>\n",
       "      <td>1</td>\n",
       "      <td>54</td>\n",
       "      <td>2018-03-26 16:36:39</td>\n",
       "      <td>2018-03-25 13:15:49</td>\n",
       "      <td>2018-03-28 09:33:44</td>\n",
       "      <td>2018-04-02</td>\n",
       "      <td>1</td>\n",
       "      <td>0</td>\n",
       "      <td>2018-04-02</td>\n",
       "      <td>-27.35</td>\n",
       "      <td>16</td>\n",
       "      <td>0.0</td>\n",
       "      <td>2018-03-26</td>\n",
       "    </tr>\n",
       "    <tr>\n",
       "      <th>420</th>\n",
       "      <td>421</td>\n",
       "      <td>225294</td>\n",
       "      <td>0</td>\n",
       "      <td>1</td>\n",
       "      <td>5</td>\n",
       "      <td>2018-03-26 16:59:57</td>\n",
       "      <td>2018-03-25 13:15:50</td>\n",
       "      <td>2018-03-28 17:07:50</td>\n",
       "      <td>2018-03-28</td>\n",
       "      <td>2</td>\n",
       "      <td>0</td>\n",
       "      <td>2018-04-02</td>\n",
       "      <td>-27.74</td>\n",
       "      <td>16</td>\n",
       "      <td>5.0</td>\n",
       "      <td>2018-03-26</td>\n",
       "    </tr>\n",
       "  </tbody>\n",
       "</table>\n",
       "</div>"
      ],
      "text/plain": [
       "     order_id  shipper_id  cod  from_hub_id  to_hub_id sort_hub_inbound_scan  \\\n",
       "267       268      225294    0            1          5   2018-03-22 16:13:28   \n",
       "350       351      221250    0            1         86   2018-03-22 16:15:05   \n",
       "351       352      225294    0            1          5   2018-03-26 17:07:34   \n",
       "352       353      225294    0            1         54   2018-03-26 16:36:39   \n",
       "420       421      225294    0            1          5   2018-03-26 16:59:57   \n",
       "\n",
       "    sort_hub_outbound_scan       dest_hub_scan first_attempt_date  \\\n",
       "267    2018-03-21 17:37:32 2018-03-24 12:53:21         2018-04-06   \n",
       "350    2018-03-21 17:37:33 2018-03-23 09:26:50         2018-04-03   \n",
       "351    2018-03-25 13:15:50 2018-03-28 12:29:53         2018-04-08   \n",
       "352    2018-03-25 13:15:49 2018-03-28 09:33:44         2018-04-02   \n",
       "420    2018-03-25 13:15:50 2018-03-28 17:07:50         2018-03-28   \n",
       "\n",
       "     num_attempts  rts completion_date  sort_time_hours  inbound_hour  \\\n",
       "267             2    0      2018-04-07           -22.60            16   \n",
       "350             1    0      2018-04-03           -22.63            16   \n",
       "351             1    0      2018-04-08           -27.86            17   \n",
       "352             1    0      2018-04-02           -27.35            16   \n",
       "420             2    0      2018-04-02           -27.74            16   \n",
       "\n",
       "     delivery_time_days sort_inbound_date  \n",
       "267                 1.0        2018-03-22  \n",
       "350                 0.0        2018-03-22  \n",
       "351                 0.0        2018-03-26  \n",
       "352                 0.0        2018-03-26  \n",
       "420                 5.0        2018-03-26  "
      ]
     },
     "execution_count": 43,
     "metadata": {},
     "output_type": "execute_result"
    }
   ],
   "source": [
    "# 2\n",
    "# Mistake in data?? Outbound time before inbound time\n",
    "\n",
    "data[(data['sort_time_hours']<0)].head(5)"
   ]
  },
  {
   "cell_type": "code",
   "execution_count": 44,
   "metadata": {},
   "outputs": [
    {
     "data": {
      "text/plain": [
       "0.0     18596\n",
       "1.0       390\n",
       "2.0       194\n",
       "3.0       126\n",
       "4.0        40\n",
       "6.0        18\n",
       "5.0        16\n",
       "7.0        14\n",
       "12.0        9\n",
       "9.0         4\n",
       "10.0        3\n",
       "11.0        2\n",
       "19.0        2\n",
       "13.0        2\n",
       "22.0        1\n",
       "8.0         1\n",
       "14.0        1\n",
       "18.0        1\n",
       "Name: delivery_time_days, dtype: int64"
      ]
     },
     "execution_count": 44,
     "metadata": {},
     "output_type": "execute_result"
    }
   ],
   "source": [
    "# 3\n",
    "# COD packages take longer to deliver successfully & are more likely to be RTS\n",
    "\n",
    "pd.value_counts(data[data['cod']==1]['delivery_time_days'])\n",
    "pd.value_counts(data[data['cod']==0]['delivery_time_days'])\n"
   ]
  },
  {
   "cell_type": "code",
   "execution_count": 45,
   "metadata": {},
   "outputs": [
    {
     "data": {
      "text/plain": [
       "0    19420\n",
       "1     7953\n",
       "Name: cod, dtype: int64"
      ]
     },
     "execution_count": 45,
     "metadata": {},
     "output_type": "execute_result"
    }
   ],
   "source": [
    "# 3\n",
    "# Majority of packages that were returned to seller are COD\n",
    "\n",
    "pd.value_counts(data[data['rts']==1]['cod'])\n",
    "pd.value_counts(data['cod'])\n"
   ]
  },
  {
   "cell_type": "code",
   "execution_count": 46,
   "metadata": {},
   "outputs": [
    {
     "data": {
      "text/plain": [
       "0.1730164717716585"
      ]
     },
     "execution_count": 46,
     "metadata": {},
     "output_type": "execute_result"
    }
   ],
   "source": [
    "# 3\n",
    "# COD vs non-COD-- proportion returned to seller\n",
    "\n",
    "cod = pd.value_counts(data[data['cod']==1]['rts'])\n",
    "noncod = pd.value_counts(data[data['cod']==0]['rts'])\n",
    "\n",
    "# Proportion of COD packages returned to seller\n",
    "\n",
    "cod[1]/(cod[1]+cod[0])"
   ]
  },
  {
   "cell_type": "code",
   "execution_count": 47,
   "metadata": {},
   "outputs": [
    {
     "data": {
      "text/plain": [
       "0.005509783728115345"
      ]
     },
     "execution_count": 47,
     "metadata": {},
     "output_type": "execute_result"
    }
   ],
   "source": [
    "# Proportion of non-COD packages returned to seller\n",
    "\n",
    "noncod[1]/(noncod[0]+noncod[1])"
   ]
  },
  {
   "cell_type": "code",
   "execution_count": 48,
   "metadata": {},
   "outputs": [
    {
     "data": {
      "text/plain": [
       "Text(0,0.5,'No. of successfully delivered packages')"
      ]
     },
     "execution_count": 48,
     "metadata": {},
     "output_type": "execute_result"
    },
    {
     "data": {
      "image/png": "[encoded data removed]",
      "text/plain": [
       "<matplotlib.figure.Figure at 0x1144854a8>"
      ]
     },
     "metadata": {},
     "output_type": "display_data"
    }
   ],
   "source": [
    "# 4\n",
    "# Successfully delivered packages per day\n",
    "\n",
    "compdate,numcompleted=[],[]\n",
    "for i in pd.unique(data['completion_date']):\n",
    "    compdate.append(i)\n",
    "    numcompleted.append(len(data[(data['completion_date']==i)&(data['rts']==0)]))\n",
    "plt.figure(figsize=(12,6))\n",
    "plt.bar(compdate,numcompleted)\n",
    "plt.xticks(rotation=20)\n",
    "plt.xlabel('Date')\n",
    "plt.ylabel('No. of successfully delivered packages')"
   ]
  },
  {
   "cell_type": "code",
   "execution_count": 49,
   "metadata": {},
   "outputs": [
    {
     "data": {
      "text/plain": [
       "(array([736753., 736760., 736767., 736774., 736781., 736788., 736795.,\n",
       "        736802., 736809., 736816.]), <a list of 10 Text xticklabel objects>)"
      ]
     },
     "execution_count": 49,
     "metadata": {},
     "output_type": "execute_result"
    },
    {
     "data": {
      "image/png": "[encoded data removed]",
      "text/plain": [
       "<matplotlib.figure.Figure at 0x1149e66a0>"
      ]
     },
     "metadata": {},
     "output_type": "display_data"
    }
   ],
   "source": [
    "# 5\n",
    "\n",
    "# Sort time across the 2 month period\n",
    "# Note: bunch of outliers in end march\n",
    "\n",
    "plt.figure(figsize=(12,6))\n",
    "data1=data[data['sort_time_hours']>0]\n",
    "plt.plot_date(data1['sort_hub_inbound_scan'],data1['sort_time_hours'])\n",
    "plt.xlabel('Date inbound to sorting hub')\n",
    "plt.ylabel('Sorting time (hours)')\n",
    "plt.xticks(rotation=20)"
   ]
  },
  {
   "cell_type": "code",
   "execution_count": 50,
   "metadata": {},
   "outputs": [
    {
     "data": {
      "text/plain": [
       "([<matplotlib.patches.Wedge at 0x1174828d0>,\n",
       "  <matplotlib.patches.Wedge at 0x11748e080>,\n",
       "  <matplotlib.patches.Wedge at 0x11748e860>],\n",
       " [Text(-1.01627,0.420952,'210597'),\n",
       "  Text(0.914617,-0.611127,'200250'),\n",
       "  Text(1.07886,-0.214599,'87815')],\n",
       " [Text(-0.554328,0.22961,'87.5%  (14)'),\n",
       "  Text(0.498882,-0.333342,'6.2%  (1)'),\n",
       "  Text(0.588471,-0.117054,'6.2%  (1)')])"
      ]
     },
     "execution_count": 50,
     "metadata": {},
     "output_type": "execute_result"
    },
    {
     "data": {
      "image/png": "[encoded data removed]",
      "text/plain": [
       "<matplotlib.figure.Figure at 0x115b94160>"
      ]
     },
     "metadata": {},
     "output_type": "display_data"
    }
   ],
   "source": [
    "# 5\n",
    "# Delayed sorting by shipper_id\n",
    "\n",
    "def make_autopct(values):\n",
    "    def my_autopct(pct):\n",
    "        total = sum(values)\n",
    "        val = int(round(pct*total/100.0))\n",
    "        return '{p:.1f}%  ({v:d})'.format(p=pct,v=val)\n",
    "    return my_autopct\n",
    "\n",
    "values=pd.value_counts(data[(data['sort_time_hours']>100)][:-7]['shipper_id'])\n",
    "plt.rc('font', size=13)  \n",
    "plt.pie(values,autopct=make_autopct(values),labels=[210597,200250,87815])"
   ]
  },
  {
   "cell_type": "code",
   "execution_count": 51,
   "metadata": {},
   "outputs": [
    {
     "data": {
      "text/plain": [
       "43355     394\n",
       "87815     384\n",
       "8055      101\n",
       "210597     59\n",
       "115842     42\n",
       "Name: shipper_id, dtype: int64"
      ]
     },
     "execution_count": 51,
     "metadata": {},
     "output_type": "execute_result"
    }
   ],
   "source": [
    "# 5\n",
    "# breakdown of packages inbound on 28/29 Mar by shipper_id\n",
    "\n",
    "pd.value_counts(data[(data['sort_inbound_date']==datetime.datetime(2018,3,29)) | (data['sort_inbound_date']==datetime.datetime(2018,3,30))]['shipper_id'])[:5]"
   ]
  },
  {
   "cell_type": "code",
   "execution_count": 52,
   "metadata": {},
   "outputs": [
    {
     "data": {
      "text/plain": [
       "([<matplotlib.patches.Wedge at 0x11778e588>,\n",
       "  <matplotlib.patches.Wedge at 0x11778ec88>,\n",
       "  <matplotlib.patches.Wedge at 0x117796438>],\n",
       " [Text(-0.914617,0.611127,'1000 - 1059'),\n",
       "  Text(0.777817,-0.777817,'1500 - 1559'),\n",
       "  Text(1.07886,-0.214599,'1700 - 1759')],\n",
       " [Text(-0.498882,0.333342,'81.2%  (13)'),\n",
       "  Text(0.424264,-0.424264,'12.5%  (2)'),\n",
       "  Text(0.588471,-0.117054,'6.2%  (1)')])"
      ]
     },
     "execution_count": 52,
     "metadata": {},
     "output_type": "execute_result"
    },
    {
     "data": {
      "image/png": "[encoded data removed]",
      "text/plain": [
       "<matplotlib.figure.Figure at 0x1149e6c50>"
      ]
     },
     "metadata": {},
     "output_type": "display_data"
    }
   ],
   "source": [
    "# 5\n",
    "# Delayed sorting by inbound time of day\n",
    "\n",
    "plt.rc('font', size=13)  \n",
    "delayed_sort=pd.value_counts(data[(data['sort_time_hours']>100)][:-7]['inbound_hour'])\n",
    "plt.pie(delayed_sort,autopct=make_autopct(delayed_sort),labels=['1000 - 1059','1500 - 1559','1700 - 1759'])\n"
   ]
  },
  {
   "cell_type": "code",
   "execution_count": 53,
   "metadata": {},
   "outputs": [
    {
     "data": {
      "text/plain": [
       "Text(0,0.5,'Avg daily no. of packages')"
      ]
     },
     "execution_count": 53,
     "metadata": {},
     "output_type": "execute_result"
    },
    {
     "data": {
      "image/png": "[encoded data removed]",
      "text/plain": [
       "<matplotlib.figure.Figure at 0x117796c88>"
      ]
     },
     "metadata": {},
     "output_type": "display_data"
    }
   ],
   "source": [
    "# 6\n",
    "\n",
    "# Avg no. of packages inbound to sorting hub at each hour\n",
    "\n",
    "num_days = len(pd.unique(data['sort_inbound_date']))\n",
    "unique_inboundhour,num_inboundhour=[],[]\n",
    "for i in pd.unique(data['inbound_hour']):\n",
    "    unique_inboundhour.append(i)\n",
    "    num_inboundhour.append(len(data[(data['inbound_hour']==i)])/num_days)\n",
    "    \n",
    "plt.figure(figsize=(10,5))\n",
    "plt.xticks(np.arange(0, 24, 1))\n",
    "plt.bar(unique_inboundhour,num_inboundhour)\n",
    "plt.xticks(rotation=20)\n",
    "plt.xlabel('Time inbound to sorting hub (hour)')\n",
    "plt.ylabel('Avg daily no. of packages')"
   ]
  },
  {
   "cell_type": "code",
   "execution_count": 54,
   "metadata": {},
   "outputs": [
    {
     "data": {
      "text/plain": [
       "Text(0,0.5,'Average sorting time')"
      ]
     },
     "execution_count": 54,
     "metadata": {},
     "output_type": "execute_result"
    },
    {
     "data": {
      "image/png": "[encoded data removed]",
      "text/plain": [
       "<matplotlib.figure.Figure at 0x1175066a0>"
      ]
     },
     "metadata": {},
     "output_type": "display_data"
    }
   ],
   "source": [
    "# 6\n",
    "# Effect on sort time\n",
    "\n",
    "hours,sorthours=[],[]\n",
    "for i in pd.unique(data['inbound_hour']):\n",
    "    hours.append(i)\n",
    "    sorthours.append(np.mean(data[data['inbound_hour']==i]['sort_time_hours']))\n",
    "\n",
    "plt.figure(figsize=(10,5))\n",
    "plt.bar(hours,sorthours)\n",
    "plt.xticks(np.arange(0, 24, 2))\n",
    "plt.xlabel('Time inbound to sorting hub (hour)')\n",
    "plt.ylabel('Average sorting time')"
   ]
  },
  {
   "cell_type": "code",
   "execution_count": 55,
   "metadata": {},
   "outputs": [
    {
     "name": "stdout",
     "output_type": "stream",
     "text": [
      "0.94\n",
      "3.9\n"
     ]
    }
   ],
   "source": [
    "# 6\n",
    "# Get 1st and 3rd quartiles for sort_time\n",
    "\n",
    "print(data['sort_time_hours'].quantile(q=0.25))\n",
    "print(data['sort_time_hours'].quantile(q=0.75))\n"
   ]
  }
 ],
 "metadata": {
  "kernelspec": {
   "display_name": "Python 3",
   "language": "python",
   "name": "python3"
  },
  "language_info": {
   "codemirror_mode": {
    "name": "ipython",
    "version": 3
   },
   "file_extension": ".py",
   "mimetype": "text/x-python",
   "name": "python",
   "nbconvert_exporter": "python",
   "pygments_lexer": "ipython3",
   "version": "3.6.4"
  }
 },
 "nbformat": 4,
 "nbformat_minor": 2
}
